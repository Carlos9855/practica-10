{
 "cells": [
  {
   "cell_type": "code",
   "execution_count": 7,
   "id": "21a67fc8",
   "metadata": {},
   "outputs": [],
   "source": [
    "import numpy as np\n",
    "import gym\n",
    "import random\n",
    "import time\n",
    "import math\n",
    "from IPython.display import clear_output\n",
    "from matplotlib import pyplot as plot\n",
    "import numpy as np\n",
    "from IPython import display"
   ]
  },
  {
   "cell_type": "markdown",
   "id": "a2fc5a44",
   "metadata": {},
   "source": [
    "# Problem formulation\n",
    "\n",
    "We have the character Harry Potter who is going to rescue his uncle Sirius who is locked up in the prison of Azkaban, for this problem we have the characters on a board of size 9 X 7, the objective of the problem is that Harry has to get to where Sirius is, but for this he has to cross an area of the board where there are strong winds which blow from south to north, which occupies three columns of the board, which would be thecolumn 3,4,5, each column has a different intensity.\n",
    "\n",
    "column 3 has a probability of 0.2 that it can send Harry one square to the north, column 4 has a probability of 0.3 that it can finish two squares to the north and finally column 5 has a probability of 0.25 that it can finish one square to the north.\n"
   ]
  },
  {
   "cell_type": "code",
   "execution_count": 5,
   "id": "3c4cb4e4",
   "metadata": {},
   "outputs": [
    {
     "data": {
      "image/png": "[encoded data removed]",
      "text/plain": [
       "<IPython.core.display.Image object>"
      ]
     },
     "execution_count": 5,
     "metadata": {},
     "output_type": "execute_result"
    }
   ],
   "source": [
    "display.Image(\"./assets/map.png\")"
   ]
  },
  {
   "cell_type": "markdown",
   "id": "bc58d6fe",
   "metadata": {},
   "source": [
    "# Solution Explanation\n",
    "\n",
    "As part of the solution, the board was first transferred to a matrix where Harry's and his uncle Sirius' positions are represented.\n"
   ]
  },
  {
   "cell_type": "code",
   "execution_count": 8,
   "id": "2ce68972",
   "metadata": {},
   "outputs": [
    {
     "data": {
      "text/plain": [
       "[['H', 'H', 'H', 'H', 'H', 'H', 'H', 'H', 'H'],\n",
       " ['H', 'A', 'H', 'H', 'H', 'H', 'H', 'H', 'H'],\n",
       " ['H', 'H', 'H', 'H', 'H', 'H', 'H', 'H', 'H'],\n",
       " ['H', 'H', 'H', 'H', 'H', 'H', 'H', 'H', 'H'],\n",
       " ['H', 'H', 'H', 'H', 'H', 'H', 'H', 'S', 'H'],\n",
       " ['H', 'H', 'H', 'H', 'H', 'H', 'H', 'H', 'H'],\n",
       " ['H', 'H', 'H', 'H', 'H', 'H', 'H', 'H', 'H']]"
      ]
     },
     "execution_count": 8,
     "metadata": {},
     "output_type": "execute_result"
    }
   ],
   "source": [
    "harry =[1,1] \n",
    "sirius= [7,4]\n",
    "matriz = [[\"H\",\"H\",\"H\",\"H\",\"H\",\"H\",\"H\",\"H\",\"H\"],\n",
    "          [\"H\",\"A\",\"H\",\"H\",\"H\",\"H\",\"H\",\"H\",\"H\"],\n",
    "          [\"H\",\"H\",\"H\",\"H\",\"H\",\"H\",\"H\",\"H\",\"H\"],\n",
    "          [\"H\",\"H\",\"H\",\"H\",\"H\",\"H\",\"H\",\"H\",\"H\"],\n",
    "          [\"H\",\"H\",\"H\",\"H\",\"H\",\"H\",\"H\",\"S\",\"H\"],\n",
    "          [\"H\",\"H\",\"H\",\"H\",\"H\",\"H\",\"H\",\"H\",\"H\"],\n",
    "          [\"H\",\"H\",\"H\",\"H\",\"H\",\"H\",\"H\",\"H\",\"H\"]]\n",
    "matriz"
   ]
  },
  {
   "cell_type": "markdown",
   "id": "4fba43eb",
   "metadata": {},
   "source": [
    "Subsequently there is a function which is responsible for moving a box to Harry Potter in the four directions that you have that in this case is Left, Right, Up, Down, in this function moves the character and its position is updated, then ask if Harry is in any of the three columns where the wind is blowing, if this is the calculation of the probability is performed with the following formula:\n",
    "1-(1/math.sqrt(random.randint(0, 10)))\n",
    "\n",
    "With which we obtain a value and compare it with the probability of each column previously mentioned, if the value is equal the conditions are applied and harry is moved one or two squares to the north respectively according to the column in which he is, if the probabilities are not equal, harry stays in the same place. \n",
    "subsequently a reward is returned which is zero if he is still on the board and 10 when he finds his Uncle Sirius, a new state and a done is also returned."
   ]
  },
  {
   "cell_type": "code",
   "execution_count": 13,
   "id": "47cc20c3",
   "metadata": {},
   "outputs": [],
   "source": [
    "def HarryPotter(accion):\n",
    "    rewart=0\n",
    "    done=False\n",
    "    new_state=0\n",
    "    if(accion == 0):\n",
    "        matriz[harry[1]][harry[0]]=\"H\"\n",
    "        matriz[harry[1]][harry[0]-1]=\"A\"\n",
    "        harry[0] -= 1\n",
    "    if(accion == 1):\n",
    "        matriz[harry[1]][harry[0]]=\"H\"\n",
    "        matriz[harry[1]][harry[0]+1]=\"A\"\n",
    "        harry[0] += 1\n",
    "    if(accion == 2):\n",
    "        matriz[harry[1]][harry[0]]=\"H\"\n",
    "        matriz[harry[1]-1][harry[0]]=\"A\"\n",
    "        harry[1] -= 1\n",
    "    if(accion == 3):\n",
    "        matriz[harry[1]][harry[0]]=\"H\"\n",
    "        matriz[harry[1]+1][harry[0]]=\"A\"\n",
    "        harry[1] += 1\n",
    "    if(harry[0] == 3):\n",
    "        a= 1-(1/math.sqrt(random.randint(0, 10)))\n",
    "        a=\"{0:.1f}\".format(a)\n",
    "        if(a==0.3):\n",
    "            matriz[harry[1]][harry[0]]=\"H\"\n",
    "            matriz[harry[1]-1][harry[0]]=\"A\"\n",
    "            harry[1] -= 1\n",
    "    if(harry[0] == 4):\n",
    "        a= 1-(1/math.sqrt(random.randint(0, 10)))\n",
    "        a=\"{0:.2f}\".format(a)\n",
    "        if(a==0.25):\n",
    "            matriz[harry[1]][harry[0]]=\"H\"\n",
    "            matriz[harry[1]-2][harry[0]]=\"A\"\n",
    "            harry[1] -= 2\n",
    "    \n",
    "    if(harry[0] == 5):\n",
    "        a= 1-(1/math.sqrt(random.randint(0, 10)))\n",
    "        a=\"{0:.2f}\".format(a)\n",
    "        if(a==0.25):\n",
    "            matriz[harry[1]][harry[0]]=\"H\"\n",
    "            matriz[harry[1]-1][harry[0]]=\"A\"\n",
    "            harry[1] -= 1\n",
    "    \n",
    "    if(harry==sirius):\n",
    "        rewart= 10\n",
    "        done=True\n",
    "    new_state= random.randint(0, 10)\n",
    "    return new_state,rewart,done,1"
   ]
  },
  {
   "cell_type": "markdown",
   "id": "8b1948b5",
   "metadata": {},
   "source": [
    "In this part we have the variables that we will use later, we have:\n",
    " - action space size: this is the number of actions that are available.\n",
    " - size of the state space: this is the number of squares on the board.\n",
    " - action : This is an array with the available actions."
   ]
  },
  {
   "cell_type": "code",
   "execution_count": 14,
   "id": "05b7f384",
   "metadata": {},
   "outputs": [],
   "source": [
    "action_space_size = 4\n",
    "state_space_size = 63\n",
    "action_def =[\"izquierda\",\"derecha\",\"arriba\",\"abajo\"]\n",
    "action =[0,1,2,3]"
   ]
  },
  {
   "cell_type": "markdown",
   "id": "f67e5569",
   "metadata": {},
   "source": [
    " - Number of episodes: the number of times the training will be run\n",
    " - maximum steps you can take in an episode: you are limiting the number of steps you can take in an episode.\n"
   ]
  },
  {
   "cell_type": "code",
   "execution_count": 15,
   "id": "08e75cb7",
   "metadata": {},
   "outputs": [],
   "source": [
    "num_episodes = 10000\n",
    "max_steps_per_episode = 100\n",
    "\n",
    "learning_rate = 0.2\n",
    "discount_rate = 0.95\n",
    "\n",
    "rewards_avg = []\n",
    "\n",
    "q_table = np.zeros((state_space_size, action_space_size))\n"
   ]
  },
  {
   "cell_type": "markdown",
   "id": "a1dfb26d",
   "metadata": {},
   "source": [
    "In this part of the code we made some modifications to what we had so that it can work with the code that moved Harry Potter, in this case we no longer use the gym library, but it is leading to a function that returns the necessary values for the calculations."
   ]
  },
  {
   "cell_type": "code",
   "execution_count": 19,
   "id": "c33d94fe",
   "metadata": {},
   "outputs": [
    {
     "name": "stdout",
     "output_type": "stream",
     "text": [
      "average  0\n"
     ]
    },
    {
     "ename": "IndexError",
     "evalue": "index 4 is out of bounds for axis 1 with size 4",
     "output_type": "error",
     "traceback": [
      "\u001b[1;31m---------------------------------------------------------------------------\u001b[0m",
      "\u001b[1;31mIndexError\u001b[0m                                Traceback (most recent call last)",
      "\u001b[1;32m~\\AppData\\Local\\Temp/ipykernel_11248/2638136977.py\u001b[0m in \u001b[0;36m<module>\u001b[1;34m\u001b[0m\n\u001b[0;32m     32\u001b[0m             \u001b[0mnew_state\u001b[0m\u001b[1;33m,\u001b[0m \u001b[0mreward\u001b[0m\u001b[1;33m,\u001b[0m \u001b[0mdone\u001b[0m\u001b[1;33m,\u001b[0m \u001b[0minfo\u001b[0m \u001b[1;33m=\u001b[0m \u001b[0mHarryPotter\u001b[0m\u001b[1;33m(\u001b[0m\u001b[0maction\u001b[0m\u001b[1;33m)\u001b[0m\u001b[1;33m\u001b[0m\u001b[1;33m\u001b[0m\u001b[0m\n\u001b[0;32m     33\u001b[0m             \u001b[1;31m# Update Q-table for Q(s,a)\u001b[0m\u001b[1;33m\u001b[0m\u001b[1;33m\u001b[0m\u001b[1;33m\u001b[0m\u001b[0m\n\u001b[1;32m---> 34\u001b[1;33m             \u001b[0mq_table\u001b[0m\u001b[1;33m[\u001b[0m\u001b[0mstate\u001b[0m\u001b[1;33m,\u001b[0m \u001b[0maction\u001b[0m\u001b[1;33m]\u001b[0m \u001b[1;33m=\u001b[0m \u001b[0mq_table\u001b[0m\u001b[1;33m[\u001b[0m\u001b[0mstate\u001b[0m\u001b[1;33m,\u001b[0m \u001b[0maction\u001b[0m\u001b[1;33m]\u001b[0m \u001b[1;33m*\u001b[0m \u001b[1;33m(\u001b[0m\u001b[1;36m1\u001b[0m \u001b[1;33m-\u001b[0m \u001b[0mlearning_rate\u001b[0m\u001b[1;33m)\u001b[0m \u001b[1;33m+\u001b[0m\u001b[0;31m \u001b[0m\u001b[0;31m\\\u001b[0m\u001b[1;33m\u001b[0m\u001b[1;33m\u001b[0m\u001b[0m\n\u001b[0m\u001b[0;32m     35\u001b[0m                 \u001b[0mlearning_rate\u001b[0m \u001b[1;33m*\u001b[0m \u001b[1;33m(\u001b[0m\u001b[0mreward\u001b[0m \u001b[1;33m+\u001b[0m \u001b[0mdiscount_rate\u001b[0m \u001b[1;33m*\u001b[0m \u001b[0mnp\u001b[0m\u001b[1;33m.\u001b[0m\u001b[0mmax\u001b[0m\u001b[1;33m(\u001b[0m\u001b[0mq_table\u001b[0m\u001b[1;33m[\u001b[0m\u001b[0mnew_state\u001b[0m\u001b[1;33m,\u001b[0m \u001b[1;33m:\u001b[0m\u001b[1;33m]\u001b[0m\u001b[1;33m)\u001b[0m\u001b[1;33m)\u001b[0m\u001b[1;33m\u001b[0m\u001b[1;33m\u001b[0m\u001b[0m\n\u001b[0;32m     36\u001b[0m             \u001b[1;31m# transition next state\u001b[0m\u001b[1;33m\u001b[0m\u001b[1;33m\u001b[0m\u001b[1;33m\u001b[0m\u001b[0m\n",
      "\u001b[1;31mIndexError\u001b[0m: index 4 is out of bounds for axis 1 with size 4"
     ]
    }
   ],
   "source": [
    "# This cycle is to calculate the average reward/episodes and its only purpose is to plot the nice graph below that\n",
    "# shows how the agent learn how to maximize the reward.\n",
    "for it in range(100):\n",
    "    print('average ', it)\n",
    "    rewards_all_episodes=[]\n",
    "    \n",
    "    # exporation-exploitation trade-off params\n",
    "    exploration_rate = 1\n",
    "    max_exploration_rate = 1\n",
    "    min_exploration_rate = 0.01\n",
    "    exploration_decay_rate = 0.005\n",
    "    \n",
    "    # init q table in zeros\n",
    "    q_table = np.zeros((state_space_size, action_space_size))\n",
    "\n",
    "    # iterate over the episodes\n",
    "    for episode in range(num_episodes):\n",
    "        state = 0\n",
    "        done = False\n",
    "        rewards_current_episode = 0\n",
    "        \n",
    "        # iterate over the steps for an episode\n",
    "        for step in range(max_steps_per_episode):\n",
    "            # Exploration-exploitation trade-off\n",
    "            exploration_rate_threshold = random.uniform(0, 1)\n",
    "            if exploration_rate_threshold > exploration_rate:\n",
    "                action = np.argmax(q_table[state,:])\n",
    "            else:\n",
    "                action = random.randint(0, 4)\n",
    "\n",
    "            # Take action\n",
    "            new_state, reward, done, info = HarryPotter(action)\n",
    "            # Update Q-table for Q(s,a)\n",
    "            q_table[state, action] = q_table[state, action] * (1 - learning_rate) + \\\n",
    "                learning_rate * (reward + discount_rate * np.max(q_table[new_state, :]))\n",
    "            # transition next state\n",
    "            state = new_state\n",
    "            rewards_current_episode += reward\n",
    "\n",
    "            if done == True: \n",
    "                break\n",
    "\n",
    "        # Exploration rate decay\n",
    "        exploration_rate = min_exploration_rate + \\\n",
    "        (max_exploration_rate - min_exploration_rate) * np.exp(-exploration_decay_rate*episode)\n",
    "\n",
    "        rewards_all_episodes.append(rewards_current_episode)\n",
    "    rewards_avg.append(rewards_all_episodes)"
   ]
  },
  {
   "cell_type": "code",
   "execution_count": null,
   "id": "03f98534",
   "metadata": {},
   "outputs": [],
   "source": [
    "\n",
    "x = [i for i in range(0,num_episodes)]\n",
    "y = np.mean(rewards_avg, axis=0)\n",
    "plot.xlabel('Episodes')\n",
    "plot.ylabel('Reward')\n",
    "plot.plot(x, y,'o')"
   ]
  },
  {
   "cell_type": "markdown",
   "id": "e4623ab7",
   "metadata": {},
   "source": [
    "It shows the Q Table with its values already updated."
   ]
  },
  {
   "cell_type": "code",
   "execution_count": null,
   "id": "155d6119",
   "metadata": {},
   "outputs": [],
   "source": [
    "# Print updated Q-table\n",
    "print(\"\\n\\n********Q-table********\\n\")\n",
    "print(q_table)"
   ]
  },
  {
   "cell_type": "markdown",
   "id": "49acf23e",
   "metadata": {},
   "source": [
    "in this last part we run the model and it should print the matrix in each movement it makes so that we can visualize the movement Harry"
   ]
  },
  {
   "cell_type": "code",
   "execution_count": null,
   "id": "a12c173a",
   "metadata": {},
   "outputs": [],
   "source": [
    "for episode in range(3):\n",
    "    state = 0\n",
    "    done = False\n",
    "    print(\"*****EPISODE \", episode+1, \"*****\\n\\n\\n\\n\")\n",
    "    time.sleep(1)\n",
    "    \n",
    "    for step in range(max_steps_per_episode):        \n",
    "        clear_output(wait=True)\n",
    "        env.render()\n",
    "        time.sleep(0.3)\n",
    "        \n",
    "        action = np.argmax(q_table[state,:])        \n",
    "        new_state, reward, done, info = HarryPotter(accion)\n",
    "        \n",
    "        if done:\n",
    "            clear_output(wait=True)\n",
    "            matriz #Se mostraria la matiz con el siguiente movimiento\n",
    "            if reward == 1:\n",
    "                print(\"****You reached the goal!****\")\n",
    "                time.sleep(3)\n",
    "            else:\n",
    "                print(\"****You fell through a hole!****\")\n",
    "                time.sleep(3)\n",
    "                clear_output(wait=True)\n",
    "            break\n",
    "            \n",
    "        state = new_state\n",
    "        env.close()"
   ]
  }
 ],
 "metadata": {
  "kernelspec": {
   "display_name": "Python 3 (ipykernel)",
   "language": "python",
   "name": "python3"
  },
  "language_info": {
   "codemirror_mode": {
    "name": "ipython",
    "version": 3
   },
   "file_extension": ".py",
   "mimetype": "text/x-python",
   "name": "python",
   "nbconvert_exporter": "python",
   "pygments_lexer": "ipython3",
   "version": "3.8.8"
  }
 },
 "nbformat": 4,
 "nbformat_minor": 5
}
